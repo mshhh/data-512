{
 "cells": [
  {
   "cell_type": "markdown",
   "metadata": {},
   "source": [
    "# A4: Final Project Preliminary Proposal"
   ]
  },
  {
   "cell_type": "markdown",
   "metadata": {},
   "source": [
    "* __University of Washington__\n",
    "* __DATA512 Fall 2020__\n",
    "* __Sihao Miao__\n",
    "* __November 5, 2020__"
   ]
  },
  {
   "cell_type": "markdown",
   "metadata": {},
   "source": [
    "### Motivation and Problem Statement"
   ]
  },
  {
   "cell_type": "markdown",
   "metadata": {},
   "source": [
    "I plan to analyze H-1B Employer Data providing information on employers petitioning for H-1B workers from fiscal year 2015 to fiscal year 2020 (quarter 2). As a foreigner studying in the United States, I will be required to get a valid H-1B visa before my student visa gets expired if I want to work in the States legally. Therefore, I'm interested in seeing the approval and denial data extracted from Form I-129 submitted to USCIS, and in particular, I would like to know the approval and denial rates by employer in the last 5 years. The USCIS has a large dataset called H-1B Employer Data Hub that provides historical approval and denial data reflecting USCIS’ first decision. From a human-centered perspective, the purpose of this analysis is to understand both the trend of approval and denial rates over years as well as possible factors affecting such decison in the immigration system. I intend to conduct this analysis in a reproducible way such that other temporary foreign workers might find it useful and apply it into their own analysis. "
   ]
  },
  {
   "cell_type": "markdown",
   "metadata": {},
   "source": [
    "### Data Selected for Analysis"
   ]
  },
  {
   "cell_type": "markdown",
   "metadata": {},
   "source": [
    "For this analysis, I decide to use H-1B Employer Data from U.S. Citizenship and Immigration Services (USCIS) because the dataset including data from fiscal year 2009 through fiscal year 2020 (quarter 2) is publicly available. The main page of H-1B Employer Data Hub can be found [here](https://www.uscis.gov/tools/reports-and-studies/h-1b-employer-data-hub) and we can download all data files through this [link](https://www.uscis.gov/tools/reports-and-studies/h-1b-employer-data-hub/h-1b-employer-data-hub-files). The dataset consists of the counts of initial approval, initial denial, continuing approval, and continuing denial are aggregated by distinct completion fiscal year, two digit NAICS code, tax ID, state, city, and ZIP code. As stated on [this page](https://www.uscis.gov/tools/reports-and-studies/h-1b-employer-data-hub/h-1b-employer-data-hub-files), the dataset provide by USCIS can be used for personal and non-commercial use. We are allowed to download data for individual fiscal years and conduct our own analyses of these data. More information about terms of use for the data can be found [here](https://www.uscis.gov/tools/reports-and-studies/understanding-our-data). Here are some notes for this dataset:\n",
    "1. One employer with multiple addresses in a given fiscal year will have multiple rows in the data. \n",
    "2. The most common spelling of employer name per unique tax ID is used. \n",
    "3. Subsequent decisions, such as on an appeal or revocation, are excluded. \n",
    "4. The data does not include petitions that are pending adjudication when USCIS generates the data. \n",
    "\n",
    "While this dataset is available to public, it only identifies the last four digits of the Petitioner’s Tax ID Number for privacy purpose. And in my analysis, I would remove this part of data just for ethical consideration. Overall, I believe this is a suitable dataset for my project because it has all the infomation I would like to explore for addressing my research goal as I mentioned in the Motivation and Problem Statement section. I can calculate the approval and denial rates by looking at the counts of initial approval, initial denial, continuing approval, and continuing denial, and visualize the difference between locations by using the state, city, and ZIP code."
   ]
  },
  {
   "cell_type": "markdown",
   "metadata": {},
   "source": [
    "### Unknowns and Dependencies"
   ]
  },
  {
   "cell_type": "markdown",
   "metadata": {},
   "source": [
    "Since the data was transformed from paper forms manually, there may exist some entry errors. As a result, some employer name, tax ID, state, city, or ZIP code in this dataset may be missing and/or erroneous. I need to check the missing rate in each file before conducting the analysis so I also find an alternative dataset in order to complete this project within the time allotted. The DHS Office of Immigration Statistics (OIS) has the [data]((https://www.dhs.gov/immigration-statistics)) I may need; however, I will need to extract the correponding data in the yearly report by myself."
   ]
  }
 ],
 "metadata": {
  "kernelspec": {
   "display_name": "Python 3",
   "language": "python",
   "name": "python3"
  },
  "language_info": {
   "codemirror_mode": {
    "name": "ipython",
    "version": 3
   },
   "file_extension": ".py",
   "mimetype": "text/x-python",
   "name": "python",
   "nbconvert_exporter": "python",
   "pygments_lexer": "ipython3",
   "version": "3.7.4"
  }
 },
 "nbformat": 4,
 "nbformat_minor": 2
}
