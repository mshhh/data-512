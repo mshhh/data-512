{
 "cells": [
  {
   "cell_type": "markdown",
   "metadata": {},
   "source": [
    "# A2: Bias in Data "
   ]
  },
  {
   "cell_type": "markdown",
   "metadata": {},
   "source": [
    "The goal of this project is to identify potential sources of bias in two datasets, \"Wikipedia Talk Labels: Toxicity” and \"Wikipedia Talk Labels: Personal Attacks\", from the Wikipedia Talk corpus, and to perform an exploratory data analysis based on those data. The analysis is done in a Jupyter Notebook including a description about some implications of the bias and some suggestions on correcting those bias and reducing negative consequences. "
   ]
  },
  {
   "cell_type": "markdown",
   "metadata": {},
   "source": [
    "## Step 0: Background Research"
   ]
  },
  {
   "cell_type": "markdown",
   "metadata": {},
   "source": [
    "The two datasets can be accessed through [Figshare](https://figshare.com/projects/Wikipedia_Talk/16731) and the schema and descriptions can be found [here](https://meta.wikimedia.org/wiki/Research:Detox/Data_Release): \n",
    "\n",
    "1. [Toxicity Figshare dataset](https://figshare.com/articles/Wikipedia_Talk_Labels_Toxicity/4563973): over 100k labeled discussion comments from English Wikipedia by multiple annotators via Crowdflower on whether it is a toxic or healthy contribution with some demographic data for each crowd-worker.\n",
    "2. [Personal Attacks Figshare dataset](https://figshare.com/articles/Wikipedia_Talk_Labels_Personal_Attacks/4054689): over 100k labeled discussion comments from English Wikipedia by multiple annotators via Crowdflower on whether it contains a personal attack with some demographic data for each crowd-worker. \n",
    "\n",
    "For your information, you can learn more details about the project on [Detox wiki page](https://meta.wikimedia.org/wiki/Research:Detox) and [perspective API repository on GitHub](https://github.com/conversationai/perspectiveapi/wiki/perspective-hacks)."
   ]
  },
  {
   "cell_type": "markdown",
   "metadata": {},
   "source": [
    "## Step 1: Select and Perform Analysis"
   ]
  },
  {
   "cell_type": "markdown",
   "metadata": {},
   "source": [
    "First, I imported the python libraries that I would use throughout the whole exploratory analysis."
   ]
  },
  {
   "cell_type": "code",
   "execution_count": 174,
   "metadata": {},
   "outputs": [],
   "source": [
    "import pandas as pd\n",
    "import matplotlib.pyplot as plt\n",
    "import seaborn as sns"
   ]
  },
  {
   "cell_type": "markdown",
   "metadata": {},
   "source": [
    "Second, I loaded the 6 source data files in TSV into data frames and did some preliminary data cleaning for them. Note that each of the datasets contains three types of files: annotations, annotated comments, and worker demographics."
   ]
  },
  {
   "cell_type": "code",
   "execution_count": 175,
   "metadata": {},
   "outputs": [],
   "source": [
    "# load the toxicity dataset\n",
    "tox_annotations = pd.read_csv(\"./4563973/toxicity_annotations.tsv\", sep='\\t')\n",
    "tox_comments = pd.read_csv(\"./4563973/toxicity_annotated_comments.tsv\", sep='\\t')\n",
    "tox_demographics = pd.read_csv(\"./4563973/toxicity_worker_demographics.tsv\", sep='\\t')"
   ]
  },
  {
   "cell_type": "code",
   "execution_count": 176,
   "metadata": {},
   "outputs": [],
   "source": [
    "# load the personal attacks dataset\n",
    "att_annotations = pd.read_csv(\"./4054689/attack_annotations.tsv\", sep='\\t')\n",
    "att_comments = pd.read_csv(\"./4054689/attack_annotated_comments.tsv\", sep='\\t')\n",
    "att_demographics = pd.read_csv(\"./4054689/attack_worker_demographics.tsv\", sep='\\t')"
   ]
  },
  {
   "cell_type": "markdown",
   "metadata": {},
   "source": [
    "I checked the unique number of rev_id and worker_id in the three data frames to make sure I can use inner join to merge all data frames. I then merged the three types of data files for both toxicity and personal attack datasets. "
   ]
  },
  {
   "cell_type": "code",
   "execution_count": 177,
   "metadata": {},
   "outputs": [
    {
     "data": {
      "text/plain": [
       "(159686, 159686)"
      ]
     },
     "execution_count": 177,
     "metadata": {},
     "output_type": "execute_result"
    }
   ],
   "source": [
    "len(tox_comments['rev_id'].unique()), len(tox_annotations['rev_id'].unique())"
   ]
  },
  {
   "cell_type": "code",
   "execution_count": 178,
   "metadata": {},
   "outputs": [
    {
     "data": {
      "text/plain": [
       "(115864, 115864)"
      ]
     },
     "execution_count": 178,
     "metadata": {},
     "output_type": "execute_result"
    }
   ],
   "source": [
    "len(att_comments['rev_id'].unique()), len(att_annotations['rev_id'].unique())"
   ]
  },
  {
   "cell_type": "code",
   "execution_count": 179,
   "metadata": {},
   "outputs": [
    {
     "data": {
      "text/plain": [
       "(4301, 4301)"
      ]
     },
     "execution_count": 179,
     "metadata": {},
     "output_type": "execute_result"
    }
   ],
   "source": [
    "len(tox_annotations['worker_id'].unique()), len(tox_annotations['worker_id'].unique())"
   ]
  },
  {
   "cell_type": "code",
   "execution_count": 180,
   "metadata": {},
   "outputs": [
    {
     "data": {
      "text/plain": [
       "(4053, 4053)"
      ]
     },
     "execution_count": 180,
     "metadata": {},
     "output_type": "execute_result"
    }
   ],
   "source": [
    "len(att_annotations['worker_id'].unique()), len(att_annotations['worker_id'].unique())"
   ]
  },
  {
   "cell_type": "code",
   "execution_count": 181,
   "metadata": {},
   "outputs": [],
   "source": [
    "# merge the data files for toxicity dataset\n",
    "tox_df = pd.merge(tox_annotations, tox_comments, how='inner', on=['rev_id']) \n",
    "tox_df = pd.merge(tox_df, tox_demographics, how='inner', on=['worker_id'])"
   ]
  },
  {
   "cell_type": "code",
   "execution_count": 182,
   "metadata": {},
   "outputs": [],
   "source": [
    "# merge the data files for personal attack dataset\n",
    "att_df = pd.merge(att_annotations, att_comments, how='inner', on=['rev_id']) \n",
    "att_df = pd.merge(att_df, att_demographics, how='inner', on=['worker_id'])"
   ]
  },
  {
   "cell_type": "code",
   "execution_count": 212,
   "metadata": {},
   "outputs": [
    {
     "data": {
      "text/html": [
       "<div>\n",
       "<style scoped>\n",
       "    .dataframe tbody tr th:only-of-type {\n",
       "        vertical-align: middle;\n",
       "    }\n",
       "\n",
       "    .dataframe tbody tr th {\n",
       "        vertical-align: top;\n",
       "    }\n",
       "\n",
       "    .dataframe thead th {\n",
       "        text-align: right;\n",
       "    }\n",
       "</style>\n",
       "<table border=\"1\" class=\"dataframe\">\n",
       "  <thead>\n",
       "    <tr style=\"text-align: right;\">\n",
       "      <th></th>\n",
       "      <th>rev_id</th>\n",
       "      <th>worker_id</th>\n",
       "      <th>toxicity</th>\n",
       "      <th>toxicity_score</th>\n",
       "      <th>comment</th>\n",
       "      <th>year</th>\n",
       "      <th>logged_in</th>\n",
       "      <th>ns</th>\n",
       "      <th>sample</th>\n",
       "      <th>split</th>\n",
       "      <th>gender</th>\n",
       "      <th>english_first_language</th>\n",
       "      <th>age_group</th>\n",
       "      <th>education</th>\n",
       "    </tr>\n",
       "  </thead>\n",
       "  <tbody>\n",
       "    <tr>\n",
       "      <td>0</td>\n",
       "      <td>2232.0</td>\n",
       "      <td>723</td>\n",
       "      <td>0</td>\n",
       "      <td>0.0</td>\n",
       "      <td>This:NEWLINE_TOKEN:One can make an analogy in ...</td>\n",
       "      <td>2002</td>\n",
       "      <td>True</td>\n",
       "      <td>article</td>\n",
       "      <td>random</td>\n",
       "      <td>train</td>\n",
       "      <td>female</td>\n",
       "      <td>0</td>\n",
       "      <td>30-45</td>\n",
       "      <td>bachelors</td>\n",
       "    </tr>\n",
       "    <tr>\n",
       "      <td>1</td>\n",
       "      <td>37346.0</td>\n",
       "      <td>723</td>\n",
       "      <td>0</td>\n",
       "      <td>0.0</td>\n",
       "      <td>`If they are ``indisputable`` then why does th...</td>\n",
       "      <td>2002</td>\n",
       "      <td>True</td>\n",
       "      <td>article</td>\n",
       "      <td>random</td>\n",
       "      <td>train</td>\n",
       "      <td>female</td>\n",
       "      <td>0</td>\n",
       "      <td>30-45</td>\n",
       "      <td>bachelors</td>\n",
       "    </tr>\n",
       "    <tr>\n",
       "      <td>2</td>\n",
       "      <td>227181.0</td>\n",
       "      <td>723</td>\n",
       "      <td>0</td>\n",
       "      <td>0.0</td>\n",
       "      <td>NEWLINE_TOKENNEWLINE_TOKENWell, Ayn Rand certa...</td>\n",
       "      <td>2002</td>\n",
       "      <td>True</td>\n",
       "      <td>article</td>\n",
       "      <td>random</td>\n",
       "      <td>train</td>\n",
       "      <td>female</td>\n",
       "      <td>0</td>\n",
       "      <td>30-45</td>\n",
       "      <td>bachelors</td>\n",
       "    </tr>\n",
       "    <tr>\n",
       "      <td>3</td>\n",
       "      <td>2810755.0</td>\n",
       "      <td>723</td>\n",
       "      <td>0</td>\n",
       "      <td>0.0</td>\n",
       "      <td>NEWLINE_TOKENNEWLINE_TOKENNEWLINE_TOKENNEWLINE...</td>\n",
       "      <td>2004</td>\n",
       "      <td>True</td>\n",
       "      <td>user</td>\n",
       "      <td>random</td>\n",
       "      <td>train</td>\n",
       "      <td>female</td>\n",
       "      <td>0</td>\n",
       "      <td>30-45</td>\n",
       "      <td>bachelors</td>\n",
       "    </tr>\n",
       "    <tr>\n",
       "      <td>4</td>\n",
       "      <td>7270696.0</td>\n",
       "      <td>723</td>\n",
       "      <td>0</td>\n",
       "      <td>0.0</td>\n",
       "      <td>NEWLINE_TOKENNEWLINE_TOKEN==Useful info==NEWLI...</td>\n",
       "      <td>2004</td>\n",
       "      <td>True</td>\n",
       "      <td>article</td>\n",
       "      <td>random</td>\n",
       "      <td>train</td>\n",
       "      <td>female</td>\n",
       "      <td>0</td>\n",
       "      <td>30-45</td>\n",
       "      <td>bachelors</td>\n",
       "    </tr>\n",
       "  </tbody>\n",
       "</table>\n",
       "</div>"
      ],
      "text/plain": [
       "      rev_id  worker_id  toxicity  toxicity_score  \\\n",
       "0     2232.0        723         0             0.0   \n",
       "1    37346.0        723         0             0.0   \n",
       "2   227181.0        723         0             0.0   \n",
       "3  2810755.0        723         0             0.0   \n",
       "4  7270696.0        723         0             0.0   \n",
       "\n",
       "                                             comment  year  logged_in  \\\n",
       "0  This:NEWLINE_TOKEN:One can make an analogy in ...  2002       True   \n",
       "1  `If they are ``indisputable`` then why does th...  2002       True   \n",
       "2  NEWLINE_TOKENNEWLINE_TOKENWell, Ayn Rand certa...  2002       True   \n",
       "3  NEWLINE_TOKENNEWLINE_TOKENNEWLINE_TOKENNEWLINE...  2004       True   \n",
       "4  NEWLINE_TOKENNEWLINE_TOKEN==Useful info==NEWLI...  2004       True   \n",
       "\n",
       "        ns  sample  split  gender  english_first_language age_group  education  \n",
       "0  article  random  train  female                       0     30-45  bachelors  \n",
       "1  article  random  train  female                       0     30-45  bachelors  \n",
       "2  article  random  train  female                       0     30-45  bachelors  \n",
       "3     user  random  train  female                       0     30-45  bachelors  \n",
       "4  article  random  train  female                       0     30-45  bachelors  "
      ]
     },
     "execution_count": 212,
     "metadata": {},
     "output_type": "execute_result"
    }
   ],
   "source": [
    "tox_df.head()"
   ]
  },
  {
   "cell_type": "code",
   "execution_count": 184,
   "metadata": {},
   "outputs": [
    {
     "data": {
      "text/html": [
       "<div>\n",
       "<style scoped>\n",
       "    .dataframe tbody tr th:only-of-type {\n",
       "        vertical-align: middle;\n",
       "    }\n",
       "\n",
       "    .dataframe tbody tr th {\n",
       "        vertical-align: top;\n",
       "    }\n",
       "\n",
       "    .dataframe thead th {\n",
       "        text-align: right;\n",
       "    }\n",
       "</style>\n",
       "<table border=\"1\" class=\"dataframe\">\n",
       "  <thead>\n",
       "    <tr style=\"text-align: right;\">\n",
       "      <th></th>\n",
       "      <th>rev_id</th>\n",
       "      <th>worker_id</th>\n",
       "      <th>quoting_attack</th>\n",
       "      <th>recipient_attack</th>\n",
       "      <th>third_party_attack</th>\n",
       "      <th>other_attack</th>\n",
       "      <th>attack</th>\n",
       "      <th>comment</th>\n",
       "      <th>year</th>\n",
       "      <th>logged_in</th>\n",
       "      <th>ns</th>\n",
       "      <th>sample</th>\n",
       "      <th>split</th>\n",
       "      <th>gender</th>\n",
       "      <th>english_first_language</th>\n",
       "      <th>age_group</th>\n",
       "      <th>education</th>\n",
       "    </tr>\n",
       "  </thead>\n",
       "  <tbody>\n",
       "    <tr>\n",
       "      <td>0</td>\n",
       "      <td>37675</td>\n",
       "      <td>1362</td>\n",
       "      <td>0.0</td>\n",
       "      <td>0.0</td>\n",
       "      <td>0.0</td>\n",
       "      <td>0.0</td>\n",
       "      <td>0.0</td>\n",
       "      <td>`-NEWLINE_TOKENThis is not ``creative``.  Thos...</td>\n",
       "      <td>2002</td>\n",
       "      <td>False</td>\n",
       "      <td>article</td>\n",
       "      <td>random</td>\n",
       "      <td>train</td>\n",
       "      <td>male</td>\n",
       "      <td>0</td>\n",
       "      <td>18-30</td>\n",
       "      <td>masters</td>\n",
       "    </tr>\n",
       "    <tr>\n",
       "      <td>1</td>\n",
       "      <td>3202092</td>\n",
       "      <td>1362</td>\n",
       "      <td>0.0</td>\n",
       "      <td>0.0</td>\n",
       "      <td>0.0</td>\n",
       "      <td>0.0</td>\n",
       "      <td>0.0</td>\n",
       "      <td>NEWLINE_TOKENNEWLINE_TOKENHi. I haven't used o...</td>\n",
       "      <td>2004</td>\n",
       "      <td>True</td>\n",
       "      <td>user</td>\n",
       "      <td>random</td>\n",
       "      <td>train</td>\n",
       "      <td>male</td>\n",
       "      <td>0</td>\n",
       "      <td>18-30</td>\n",
       "      <td>masters</td>\n",
       "    </tr>\n",
       "    <tr>\n",
       "      <td>2</td>\n",
       "      <td>4745553</td>\n",
       "      <td>1362</td>\n",
       "      <td>0.0</td>\n",
       "      <td>0.0</td>\n",
       "      <td>0.0</td>\n",
       "      <td>0.0</td>\n",
       "      <td>0.0</td>\n",
       "      <td>NEWLINE_TOKENJust look it up.  Its obvious.</td>\n",
       "      <td>2004</td>\n",
       "      <td>False</td>\n",
       "      <td>user</td>\n",
       "      <td>random</td>\n",
       "      <td>train</td>\n",
       "      <td>male</td>\n",
       "      <td>0</td>\n",
       "      <td>18-30</td>\n",
       "      <td>masters</td>\n",
       "    </tr>\n",
       "    <tr>\n",
       "      <td>3</td>\n",
       "      <td>4855563</td>\n",
       "      <td>1362</td>\n",
       "      <td>0.0</td>\n",
       "      <td>0.0</td>\n",
       "      <td>0.0</td>\n",
       "      <td>0.0</td>\n",
       "      <td>0.0</td>\n",
       "      <td>NEWLINE_TOKENNEWLINE_TOKENI'm going to gather ...</td>\n",
       "      <td>2004</td>\n",
       "      <td>True</td>\n",
       "      <td>article</td>\n",
       "      <td>random</td>\n",
       "      <td>test</td>\n",
       "      <td>male</td>\n",
       "      <td>0</td>\n",
       "      <td>18-30</td>\n",
       "      <td>masters</td>\n",
       "    </tr>\n",
       "    <tr>\n",
       "      <td>4</td>\n",
       "      <td>8350378</td>\n",
       "      <td>1362</td>\n",
       "      <td>0.0</td>\n",
       "      <td>0.0</td>\n",
       "      <td>0.0</td>\n",
       "      <td>0.0</td>\n",
       "      <td>0.0</td>\n",
       "      <td>`NEWLINE_TOKENNEWLINE_TOKEN§ I got in touch wi...</td>\n",
       "      <td>2004</td>\n",
       "      <td>True</td>\n",
       "      <td>article</td>\n",
       "      <td>random</td>\n",
       "      <td>train</td>\n",
       "      <td>male</td>\n",
       "      <td>0</td>\n",
       "      <td>18-30</td>\n",
       "      <td>masters</td>\n",
       "    </tr>\n",
       "  </tbody>\n",
       "</table>\n",
       "</div>"
      ],
      "text/plain": [
       "    rev_id  worker_id  quoting_attack  recipient_attack  third_party_attack  \\\n",
       "0    37675       1362             0.0               0.0                 0.0   \n",
       "1  3202092       1362             0.0               0.0                 0.0   \n",
       "2  4745553       1362             0.0               0.0                 0.0   \n",
       "3  4855563       1362             0.0               0.0                 0.0   \n",
       "4  8350378       1362             0.0               0.0                 0.0   \n",
       "\n",
       "   other_attack  attack                                            comment  \\\n",
       "0           0.0     0.0  `-NEWLINE_TOKENThis is not ``creative``.  Thos...   \n",
       "1           0.0     0.0  NEWLINE_TOKENNEWLINE_TOKENHi. I haven't used o...   \n",
       "2           0.0     0.0        NEWLINE_TOKENJust look it up.  Its obvious.   \n",
       "3           0.0     0.0  NEWLINE_TOKENNEWLINE_TOKENI'm going to gather ...   \n",
       "4           0.0     0.0  `NEWLINE_TOKENNEWLINE_TOKEN§ I got in touch wi...   \n",
       "\n",
       "   year  logged_in       ns  sample  split gender  english_first_language  \\\n",
       "0  2002      False  article  random  train   male                       0   \n",
       "1  2004       True     user  random  train   male                       0   \n",
       "2  2004      False     user  random  train   male                       0   \n",
       "3  2004       True  article  random   test   male                       0   \n",
       "4  2004       True  article  random  train   male                       0   \n",
       "\n",
       "  age_group education  \n",
       "0     18-30   masters  \n",
       "1     18-30   masters  \n",
       "2     18-30   masters  \n",
       "3     18-30   masters  \n",
       "4     18-30   masters  "
      ]
     },
     "execution_count": 184,
     "metadata": {},
     "output_type": "execute_result"
    }
   ],
   "source": [
    "att_df.head()"
   ]
  },
  {
   "cell_type": "markdown",
   "metadata": {},
   "source": [
    "Third, based on the merged data frames that I had, I started performing my exploratory analysis. I listed the two analyses and related research questions below. And I placed my analysis and implications after that for each analysis."
   ]
  },
  {
   "cell_type": "markdown",
   "metadata": {},
   "source": [
    "### Analysis 1: Analyzing the demographic information about the Crowdflower workers that is available in the dataset. \n",
    "\n",
    "For the first analysis, I only focused on one dataset (toxicity) and the the research questions I came up with are: \n",
    "\n",
    "1. What are gender, age group, first language, and education level distributions among crowworkers in the toxicity dataset? \n",
    "2. Does the demographic profile of the crowworkers match that of the general population?\n",
    "\n",
    "I first created the value_counts series for each distribution and then draw the corresponding bar graph. In addition, I calculated the percentage of each group and put it in text next to the bar. I saved all graphs in png and put them in the [image]() folder. "
   ]
  },
  {
   "cell_type": "code",
   "execution_count": 185,
   "metadata": {},
   "outputs": [],
   "source": [
    "tox_gender = tox_df['gender'].value_counts()\n",
    "tox_age = tox_df['age_group'].value_counts()\n",
    "tox_language = tox_df['english_first_language'].value_counts()\n",
    "tox_education = tox_df['education'].value_counts()"
   ]
  },
  {
   "cell_type": "code",
   "execution_count": 186,
   "metadata": {},
   "outputs": [
    {
     "data": {
      "image/png": "[encoded data removed]",
      "text/plain": [
       "<Figure size 360x360 with 1 Axes>"
      ]
     },
     "metadata": {
      "needs_background": "light"
     },
     "output_type": "display_data"
    }
   ],
   "source": [
    "# draw the gender distribution\n",
    "plt.figure(figsize=(5,5))\n",
    "ax = sns.barplot(tox_gender.index, tox_gender.values, alpha=0.8)\n",
    "plt.title('Gender Distribution for Toxicity Dataset')\n",
    "plt.ylabel('number of crowworkers', fontsize=12)\n",
    "plt.xlabel('gender', fontsize=12)\n",
    "total = len(tox_df['gender'])\n",
    "for p in ax.patches:\n",
    "        percentage = '{:.1f}%'.format(100 * p.get_height()/total)\n",
    "        x = p.get_x() + p.get_width()/2 - 0.15\n",
    "        y = p.get_y() + p.get_height() + 0.02\n",
    "        ax.annotate(percentage, (x, y))\n",
    "plt.show()"
   ]
  },
  {
   "cell_type": "code",
   "execution_count": 187,
   "metadata": {},
   "outputs": [
    {
     "data": {
      "image/png": "[encoded data removed]",
      "text/plain": [
       "<Figure size 360x360 with 1 Axes>"
      ]
     },
     "metadata": {
      "needs_background": "light"
     },
     "output_type": "display_data"
    }
   ],
   "source": [
    "# draw the age group distribution\n",
    "plt.figure(figsize=(5,5))\n",
    "ax = sns.barplot(tox_age.index, tox_age.values, alpha=0.8)\n",
    "plt.title('Age Group Distribution for Toxicity Dataset')\n",
    "plt.ylabel('number of crowworkers', fontsize=12)\n",
    "plt.xlabel('age group', fontsize=12)\n",
    "for p in ax.patches:\n",
    "        percentage = '{:.1f}%'.format(100 * p.get_height()/total)\n",
    "        x = p.get_x() + p.get_width()/2 - 0.2\n",
    "        y = p.get_y() + p.get_height() + 0.02\n",
    "        ax.annotate(percentage, (x, y))\n",
    "plt.show()"
   ]
  },
  {
   "cell_type": "code",
   "execution_count": 188,
   "metadata": {},
   "outputs": [
    {
     "data": {
      "image/png": "[encoded data removed]",
      "text/plain": [
       "<Figure size 360x360 with 1 Axes>"
      ]
     },
     "metadata": {
      "needs_background": "light"
     },
     "output_type": "display_data"
    }
   ],
   "source": [
    "# draw the first language distribution\n",
    "plt.figure(figsize=(5,5))\n",
    "ax = sns.barplot(tox_language.index, tox_language.values, alpha=0.8)\n",
    "plt.title('First Language Distribution for Toxicity Dataset')\n",
    "plt.ylabel('number of crowworkers', fontsize=12)\n",
    "plt.xlabel('english is first language or not', fontsize=12)\n",
    "for p in ax.patches:\n",
    "        percentage = '{:.1f}%'.format(100 * p.get_height()/total)\n",
    "        x = p.get_x() + p.get_width()/2 - 0.1\n",
    "        y = p.get_y() + p.get_height() + 0.02\n",
    "        ax.annotate(percentage, (x, y))\n",
    "plt.show()"
   ]
  },
  {
   "cell_type": "code",
   "execution_count": 189,
   "metadata": {},
   "outputs": [
    {
     "data": {
      "image/png": "[encoded data removed]",
      "text/plain": [
       "<Figure size 576x360 with 1 Axes>"
      ]
     },
     "metadata": {
      "needs_background": "light"
     },
     "output_type": "display_data"
    }
   ],
   "source": [
    "# draw the education level distribution\n",
    "plt.figure(figsize=(8,5))\n",
    "ax = sns.barplot(tox_education.index, tox_education.values, alpha=0.8)\n",
    "plt.title('Education Level Distribution for Toxicity Dataset')\n",
    "plt.ylabel('number of crowworkers', fontsize=12)\n",
    "plt.xlabel('education level', fontsize=12)\n",
    "for p in ax.patches:\n",
    "        percentage = '{:.1f}%'.format(100 * p.get_height()/total)\n",
    "        x = p.get_x() + p.get_width()/2 - 0.2\n",
    "        y = p.get_y() + p.get_height() + 0.02\n",
    "        ax.annotate(percentage, (x, y))\n",
    "plt.show()"
   ]
  },
  {
   "cell_type": "markdown",
   "metadata": {},
   "source": [
    "**Results & Answers to the Questions:**\n",
    "\n",
    "1. Based on the graphs above, I found that 1. 66.0% of the crowworkers are male, 2. 52.6% (majority) of the crowworkers are 18-30 years old, 3. 82.6% of the crowworkers do not have English as their first language, and 4. 40.1% of the crowworkers have bachelor’s degrees, 28.3% are in high school. Therefore, we can see that the numbers of crowworkers for gender, age group, first language, and education level are disproportionate.    \n",
    "  \n",
    "  \n",
    "2. The distributions of crowworkers by gender, age group, first language, and education level do not represent the general population fairly. Therefore, the unequal distributions of crowworkers are likely to introduce some bias gender, age group, first language, and education level in the labelling process. For example, 82.6% of crowworks who are not English native speakers might understand the comments differently from the native speakers. As a result, when they label the comments, the misunderstanding can cause bias in this process and further would affect the training process for machine learning models."
   ]
  },
  {
   "cell_type": "markdown",
   "metadata": {},
   "source": [
    "### Analysis 2: Analyzing relationships between worker demographics and labeling behavior.\n",
    "\n",
    "Beside the demographic profile information of the crowworkers, I was also interested in analyzing if the unequal distribution of crowworkers would lead to bias in labeling behaviors. In particular, I paid more attention to the following research questions:\n",
    "\n",
    "1. How consistent are labelling behaviors among crowworkers with different ages?\n",
    "2. Does there exist a difference between age groups when labeling comments as toxicity vs. personal attacks?\n",
    "\n",
    "In this analysis, I joined the two datasets (toxicity and personal attack) on rev_id and I restricted my analysis only to the age group distribution because I saw a huge gap between groups in my first analysis. "
   ]
  },
  {
   "cell_type": "code",
   "execution_count": 252,
   "metadata": {},
   "outputs": [],
   "source": [
    "tox_att_df = pd.merge(tox_df, att_df, how='inner', on=['rev_id'], suffixes=('', '_y'))"
   ]
  },
  {
   "cell_type": "markdown",
   "metadata": {},
   "source": [
    "After that, I got a combined data frame with differetn"
   ]
  },
  {
   "cell_type": "code",
   "execution_count": 253,
   "metadata": {},
   "outputs": [],
   "source": [
    "tox_att_df = tox_att_df.loc[tox_att_df['age_group']==tox_att_df['age_group_y']]"
   ]
  },
  {
   "cell_type": "code",
   "execution_count": 254,
   "metadata": {},
   "outputs": [],
   "source": [
    "tox_att_gender_df = tox_att_df.groupby(['age_group']).agg({\"toxicity\":\"mean\",\"attack\":\"mean\"})"
   ]
  },
  {
   "cell_type": "code",
   "execution_count": 255,
   "metadata": {},
   "outputs": [
    {
     "data": {
      "text/html": [
       "<div>\n",
       "<style scoped>\n",
       "    .dataframe tbody tr th:only-of-type {\n",
       "        vertical-align: middle;\n",
       "    }\n",
       "\n",
       "    .dataframe tbody tr th {\n",
       "        vertical-align: top;\n",
       "    }\n",
       "\n",
       "    .dataframe thead th {\n",
       "        text-align: right;\n",
       "    }\n",
       "</style>\n",
       "<table border=\"1\" class=\"dataframe\">\n",
       "  <thead>\n",
       "    <tr style=\"text-align: right;\">\n",
       "      <th></th>\n",
       "      <th>toxicity</th>\n",
       "      <th>attack</th>\n",
       "    </tr>\n",
       "    <tr>\n",
       "      <th>age_group</th>\n",
       "      <th></th>\n",
       "      <th></th>\n",
       "    </tr>\n",
       "  </thead>\n",
       "  <tbody>\n",
       "    <tr>\n",
       "      <td>18-30</td>\n",
       "      <td>0.225963</td>\n",
       "      <td>0.206765</td>\n",
       "    </tr>\n",
       "    <tr>\n",
       "      <td>30-45</td>\n",
       "      <td>0.244187</td>\n",
       "      <td>0.236504</td>\n",
       "    </tr>\n",
       "    <tr>\n",
       "      <td>45-60</td>\n",
       "      <td>0.267368</td>\n",
       "      <td>0.285093</td>\n",
       "    </tr>\n",
       "    <tr>\n",
       "      <td>Over 60</td>\n",
       "      <td>0.277397</td>\n",
       "      <td>0.356164</td>\n",
       "    </tr>\n",
       "    <tr>\n",
       "      <td>Under 18</td>\n",
       "      <td>0.189655</td>\n",
       "      <td>0.147059</td>\n",
       "    </tr>\n",
       "  </tbody>\n",
       "</table>\n",
       "</div>"
      ],
      "text/plain": [
       "           toxicity    attack\n",
       "age_group                    \n",
       "18-30      0.225963  0.206765\n",
       "30-45      0.244187  0.236504\n",
       "45-60      0.267368  0.285093\n",
       "Over 60    0.277397  0.356164\n",
       "Under 18   0.189655  0.147059"
      ]
     },
     "execution_count": 255,
     "metadata": {},
     "output_type": "execute_result"
    }
   ],
   "source": [
    "tox_att_gender_df.head()"
   ]
  },
  {
   "cell_type": "code",
   "execution_count": 262,
   "metadata": {},
   "outputs": [
    {
     "data": {
      "text/plain": [
       "<matplotlib.axes._subplots.AxesSubplot at 0x1a9d319510>"
      ]
     },
     "execution_count": 262,
     "metadata": {},
     "output_type": "execute_result"
    },
    {
     "data": {
      "image/png": "[encoded data removed]",
      "text/plain": [
       "<Figure size 432x288 with 1 Axes>"
      ]
     },
     "metadata": {
      "needs_background": "light"
     },
     "output_type": "display_data"
    }
   ],
   "source": [
    "tox_att_gender_df.plot.bar(title='Labeling Behavior between Age Groups for Toxicity vs. Personal Attacks')"
   ]
  },
  {
   "cell_type": "markdown",
   "metadata": {},
   "source": [
    "**Results & Answers to the Questions:**\n",
    "\n",
    "1. Based on the graph above, I found that crowworkers with different age groups labeled the comment inconsistently. For example, crowwokers in the age group of over 60 are more likely to label comments as toxicity and attack than croworkerss in other age groups. On the contrary, crowworkers of age under 18 own the lowest average indicator value which represents whether the worker thought the comment contains any form of personal attack (or the comment is toxic in the toxicity dataset). As far as I'm concerned, older age groups might be more sensitive to toxic and attack comments compared to younger crowworker, which can produce bias in this process.\n",
    "   \n",
    "   \n",
    "2. Since I joined the two datasets on rev_id and filtered the rows with the same age_group in the two datasets, I noticed that for the same comment, crowworkers under age 45 tend to label it as toxicty than as any forms of personal attack, and vice versa for crowworkers of age above 45. This difference would also introduce bias in the labeling process and this might be caused by different understanding of toxicity and personal attack between age groups. "
   ]
  },
  {
   "cell_type": "markdown",
   "metadata": {},
   "source": [
    "## Step 2: Discuss Further Implications"
   ]
  },
  {
   "cell_type": "markdown",
   "metadata": {},
   "source": [
    "**1. Which, if any, of these demo applications would you expect the Perspective API—or any model trained on the Wikipedia Talk corpus—to perform well in? Why?**\n",
    "\n",
    "I find the application [Create tools for commenters](https://www.perspectiveapi.com/#/home) very useful and I believe the models trained on the Wikipedia Talk corpus would perform well in this. The application can give commentors real-time feedback when their comments might contain any forms of toxicity, which could potentially decrease the number of comments labeled as indicator 1 (toxicity variable). Commentors would think more carefully when posting their comments and pay more attention to their langauge. Moreoever, this application would sort of filtering the comments for us before the labeling and training process. \n",
    "\n",
    "**2. What are some kinds of hostile speech that would be difficult to accurately detect using the approach used to train the Perspective API models?**\n",
    " \n",
    "I think the comments posted in other languages would be difficult to detect using the approach used to train the Perspective API models. Here, other languages I mean are the languages also using English characters. It might be hard for crowworkers to detect these words as containing any forms of personal attack, toxicity or aggression. The options for labeling is objective so crowworkers with different demographic profiles might label the comments inconsistently, and in particular, they might not recognize the negative words in the comment. \n",
    "\n",
    "**3. Imagine you are one of the Google data scientists who maintains the Perspective API. If you wanted to improve the model or the API itself to make it work better for any of these purposes, how should they go about doing that?**\n",
    "\n",
    "From the first analysis, we can see that datasets were annotated largely by non-native English-speaking crowworkers. So, in order to de-bias the dataset, when creating a classifier, the modeler can consider oversampling from other groups (native English speaking, female, differing age groups). This would mean equal sampling across different groups. Also, we can improve the model by increasing the dataset size because 100k instances might not be enough to train the model well."
   ]
  }
 ],
 "metadata": {
  "kernelspec": {
   "display_name": "Python 3",
   "language": "python",
   "name": "python3"
  },
  "language_info": {
   "codemirror_mode": {
    "name": "ipython",
    "version": 3
   },
   "file_extension": ".py",
   "mimetype": "text/x-python",
   "name": "python",
   "nbconvert_exporter": "python",
   "pygments_lexer": "ipython3",
   "version": "3.7.4"
  }
 },
 "nbformat": 4,
 "nbformat_minor": 2
}
